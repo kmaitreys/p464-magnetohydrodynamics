{
 "cells": [
  {
   "cell_type": "code",
   "execution_count": null,
   "metadata": {},
   "outputs": [],
   "source": [
    "include(\"src/GalacticDynamo.jl\")"
   ]
  },
  {
   "cell_type": "code",
   "execution_count": null,
   "metadata": {},
   "outputs": [],
   "source": [
    "(\n",
    "    evolution_B_r,\n",
    "    evolution_B_ϕ,\n",
    "    decay_B_r,\n",
    "    decay_B_ϕ,\n",
    ") = GalacticDynamo.solve_diffusion()\n",
    "\n",
    "\n",
    "# GalacticDynamo.evolve_pitch_angle(evolution_B_r, evolution_B_ϕ)\n",
    "function fB_r(r)\n",
    "    return @. -(r - 5)^2 + 25\n",
    "end\n",
    "\n",
    "function fB_ϕ(r)\n",
    "    return @. (r - 5)^2 - 25\n",
    "end\n",
    "\n",
    "function fΩ(r)\n",
    "    return @. 10 / sqrt(1 + (r / 4)^2)\n",
    "end\n",
    "\n",
    "function fα(r)\n",
    "    return ones(size(r))\n",
    "end\n",
    "\n",
    "function fV_r(r)\n",
    "    return zeros(size(r))\n",
    "end\n",
    "\n",
    "function fV_z(r)\n",
    "    return zeros(size(r))\n",
    "end\n",
    "\n",
    "(\n",
    "    evolution_B_r,\n",
    "    evolution_B_ϕ,\n",
    "    decay_B_r,\n",
    "    decay_B_ϕ,\n",
    ") = GalacticDynamo.solve_mean_field(\n",
    "    fB_r,\n",
    "    fB_ϕ,\n",
    "    fΩ,\n",
    "    fα,\n",
    "    fV_r,\n",
    "    fV_z,\n",
    "    10.0,\n",
    "    10.0,\n",
    "    0.1,\n",
    "    0.02,\n",
    "    0.2,\n",
    "    0.01,\n",
    "    0.01,\n",
    ")\n",
    "\n",
    "magnetic_energy = GalacticDynamo.evolve_magnetic_energy(evolution_B_r, evolution_B_ϕ)"
   ]
  }
 ],
 "metadata": {
  "kernelspec": {
   "display_name": "Julia 1.10.1",
   "language": "julia",
   "name": "julia-1.10"
  },
  "language_info": {
   "file_extension": ".jl",
   "mimetype": "application/julia",
   "name": "julia",
   "version": "1.10.1"
  }
 },
 "nbformat": 4,
 "nbformat_minor": 2
}
