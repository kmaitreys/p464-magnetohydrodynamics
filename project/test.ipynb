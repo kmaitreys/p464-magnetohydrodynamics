{
 "cells": [
  {
   "cell_type": "code",
   "execution_count": 103,
   "metadata": {},
   "outputs": [
    {
     "name": "stderr",
     "output_type": "stream",
     "text": [
      "WARNING: replacing module GalacticDynamo.\n"
     ]
    },
    {
     "data": {
      "text/plain": [
       "Main.GalacticDynamo"
      ]
     },
     "metadata": {},
     "output_type": "display_data"
    }
   ],
   "source": [
    "include(\"src/GalacticDynamo.jl\")"
   ]
  },
  {
   "cell_type": "code",
   "execution_count": 104,
   "metadata": {},
   "outputs": [],
   "source": [
    "using Plots\n",
    "using Measures\n",
    "using ProgressMeter\n",
    "using Statistics"
   ]
  },
  {
   "cell_type": "code",
   "execution_count": 105,
   "metadata": {},
   "outputs": [
    {
     "data": {
      "text/plain": [
       "3.154e7"
      ]
     },
     "metadata": {},
     "output_type": "display_data"
    }
   ],
   "source": [
    "# Constants\n",
    "PARSEC_TO_METER = 3.086e+16\n",
    "YEAR_TO_SECOND = 3.154e+7\n",
    " "
   ]
  },
  {
   "cell_type": "code",
   "execution_count": 106,
   "metadata": {},
   "outputs": [
    {
     "name": "stdout",
     "output_type": "stream",
     "text": [
      "r_min_ghost = -0.79\n",
      "r_max_ghost = 20.99\n",
      "nr_ghost = 110\n",
      "[-0.79, -0.5901834862385322, -0.3903669724770643, -0.19055045871559628, 0.009266055045871524, 0.20908256880733933, 0.40889908256880736, 0.6087155963302752, 0.808532110091743, 1.008348623853211, 1.208165137614679, 1.4079816513761467, 1.6077981651376148, 1.8076146788990828, 2.00743119266055, 2.2072477064220184, 2.407064220183486, 2.606880733944954, 2.806697247706422, 3.00651376146789, 3.206330275229358, 3.4061467889908252, 3.6059633027522935, 3.8057798165137613, 4.00559633027523, 4.205412844036697, 4.405229357798166, 4.605045871559633, 4.8048623853211, 5.004678899082569, 5.204495412844036, 5.404311926605505, 5.604128440366972, 5.803944954128441, 6.003761467889908, 6.203577981651376, 6.403394495412844, 6.603211009174311, 6.80302752293578, 7.0028440366972475, 7.202660550458716, 7.402477064220183, 7.6022935779816505, 7.802110091743119, 8.001926605504588, 8.201743119266053, 8.401559633027523, 8.60137614678899, 8.80119266055046, 9.001009174311926, 9.200825688073394, 9.400642201834863, 9.60045871559633, 9.800275229357798, 10.000091743119265, 10.199908256880732, 10.399724770642202, 10.599541284403667, 10.799357798165138, 10.999174311926604, 11.198990825688073, 11.398807339449538, 11.59862385321101, 11.798440366972477, 11.998256880733944, 12.198073394495411, 12.39788990825688, 12.597706422018348, 12.797522935779817, 12.997339449541283, 13.197155963302754, 13.39697247706422, 13.596788990825688, 13.796605504587154, 13.996422018348623, 14.19623853211009, 14.39605504587156, 14.595871559633027, 14.795688073394494, 14.995504587155962, 15.19532110091743, 15.395137614678898, 15.594954128440367, 15.794770642201833, 15.994587155963302, 16.194403669724768, 16.394220183486237, 16.594036697247706, 16.793853211009175, 16.99366972477064, 17.19348623853211, 17.39330275229358, 17.593119266055044, 17.79293577981651, 17.992752293577983, 18.19256880733945, 18.392385321100917, 18.592201834862387, 18.792018348623852, 18.991834862385318, 19.191651376146787, 19.391467889908256, 19.591284403669725, 19.79110091743119, 19.990917431192663, 20.19073394495413, 20.390550458715595, 20.59036697247706, 20.790183486238533, 20.99]\n"
     ]
    },
    {
     "data": {
      "text/plain": [
       "4.0"
      ]
     },
     "metadata": {},
     "output_type": "display_data"
    }
   ],
   "source": [
    "h_0 = 0.5 # kpc\n",
    "h_0 = h_0 * 1e3 * PARSEC_TO_METER\n",
    "v_rms = 10 * 1e3 # m/s\n",
    "τ = 10 # Myr\n",
    "τ = τ * 1e6 * YEAR_TO_SECOND\n",
    "η = 1/3 * τ * v_rms^2\n",
    "\n",
    "\n",
    "\n",
    "unit_time = h_0^2 / η\n",
    "unit_length = h_0\n",
    "unit_field = 10^(-6) # Gauss\n",
    "\n",
    "τ = τ / unit_time\n",
    "v_rms = v_rms / (unit_length / unit_time)\n",
    "η = η / (unit_length^2 / unit_time)\n",
    "h_0 = h_0 / unit_length\n",
    "\n",
    "r_min = 0.1 * 1e3 * PARSEC_TO_METER  / unit_length # kpc\n",
    "r_max = 10.0 * 1e3 * PARSEC_TO_METER / unit_length # kpc\n",
    "\n",
    "t_min = 0.0\n",
    "t_max = 40 * 1e9 * YEAR_TO_SECOND / unit_time\n",
    "n_t = 60000\n",
    "d_t = (t_max - t_min) / n_t\n",
    "\n",
    "t = LinRange(t_min, t_max, n_t)\n",
    "dt = t[2] - t[1]\n",
    "\n",
    "r_h = r_max\n",
    "\n",
    "n_r = 100\n",
    "d_r = (r_max - r_min) / n_r\n",
    "\n",
    "n_ghost_zones = 5\n",
    "n_proper_zones = n_r + n_ghost_zones\n",
    "\n",
    "\n",
    "r_min_ghost = r_min - n_ghost_zones * d_r\n",
    "r_max_ghost = r_max + n_ghost_zones * d_r\n",
    "nr_ghost = n_r + 2 * n_ghost_zones\n",
    "\n",
    "println(\"r_min_ghost = \", r_min_ghost)\n",
    "println(\"r_max_ghost = \", r_max_ghost)\n",
    "println(\"nr_ghost = \", nr_ghost)\n",
    "\n",
    "r = LinRange(r_min_ghost, r_max_ghost, nr_ghost)\n",
    "println(collect(r))\n",
    "dr = r[2] - r[1]\n",
    "\n",
    "Ω_0 = 170 / PARSEC_TO_METER * unit_time # s^-1\n",
    "r_Ω = 2.0 * 1e3 * PARSEC_TO_METER / unit_length\n"
   ]
  },
  {
   "cell_type": "code",
   "execution_count": 107,
   "metadata": {},
   "outputs": [
    {
     "name": "stdout",
     "output_type": "stream",
     "text": [
      "The correlation length (in kpc) is 6.623687600515615e-21\n",
      "Diffusivity, η (in pc^2/Myr) is 3.3118438002578076e-20\n",
      "Turbulent Diffusion time (in Myr) is 3.170577045022194e-14\n",
      "Length step, dr (in kpc) is 0.09990825688073392\n",
      "Time step, dt (in Myr) is 0.6666777779629661\n",
      "Courant limit, C is 0.04736729969056727\n",
      "Velocity limit is 145.2983512999366\n"
     ]
    }
   ],
   "source": [
    "h = h_0 * ones(length(r))\n",
    "Ω = Ω_0 ./ sqrt.(1 .+ (r ./ r_Ω) .^ 2)\n",
    "q = -(r / Ω) * GalacticDynamo.gradient(Ω, r)\n",
    "\n",
    "α = (τ^2 .* v_rms .^ 2 .* Ω) ./ h\n",
    "\n",
    "C = 2 * η * d_t / d_r^2\n",
    "V_z_fact = 0.0\n",
    "V_r = zeros(length(r))\n",
    "V_ϕ = zeros(length(r))\n",
    "V_z = V_z_fact * ones(length(r)) / (unit_length / unit_time)\n",
    "\n",
    "\n",
    "\n",
    "\n",
    "println(\"The correlation length (in kpc) is $(v_rms * τ / 1e3 / PARSEC_TO_METER)\")\n",
    "println(\"Diffusivity, η (in pc^2/Myr) is $(η / PARSEC_TO_METER^2 * YEAR_TO_SECOND * 1e6)\")\n",
    "println(\"Turbulent Diffusion time (in Myr) is $(h_0^2 / η / 1e6 / YEAR_TO_SECOND)\")\n",
    "println(\"Length step, dr (in kpc) is $(dr * unit_length / 1e3 / PARSEC_TO_METER)\")\n",
    "println(\"Time step, dt (in Myr) is $(dt * unit_time / 1e6 / YEAR_TO_SECOND)\")\n",
    "println(\"Courant limit, C is $C\")\n",
    "println(\"Velocity limit is $(d_r * unit_length / d_t / unit_time / 1e3)\")\n"
   ]
  },
  {
   "cell_type": "code",
   "execution_count": 108,
   "metadata": {},
   "outputs": [
    {
     "name": "stderr",
     "output_type": "stream",
     "text": [
      "┌ Warning: No strict ticks found\n",
      "└ @ PlotUtils /home/kmaitreys/.julia/packages/PlotUtils/8mrSm/src/ticks.jl:194\n",
      "┌ Warning: No strict ticks found\n",
      "└ @ PlotUtils /home/kmaitreys/.julia/packages/PlotUtils/8mrSm/src/ticks.jl:194\n"
     ]
    },
    {
     "data": {
      "text/plain": [
       "\"/home/kmaitreys/Documents/college/10-2024-spring/p464-magnetohydrodynamics/project/plots/alpha_profile.png\""
      ]
     },
     "metadata": {},
     "output_type": "display_data"
    }
   ],
   "source": [
    "# Radial profiles of α and Ω\n",
    "plot(r * unit_length / 1e3 / PARSEC_TO_METER, α / unit_time,\n",
    "    xlabel=\"r [kpc]\", ylabel=\"α [kpc/s]\", label=\"Radial profile of α\", \n",
    "    lw=2, legend=:topright, size=(800, 600),\n",
    "    dpi=1200)\n",
    "\n",
    "plot!(margin = 5mm)\n",
    "savefig(\"plots/alpha_profile.png\",)\n"
   ]
  },
  {
   "cell_type": "code",
   "execution_count": 109,
   "metadata": {},
   "outputs": [
    {
     "data": {
      "text/plain": [
       "\"/home/kmaitreys/Documents/college/10-2024-spring/p464-magnetohydrodynamics/project/plots/omega_profile.png\""
      ]
     },
     "metadata": {},
     "output_type": "display_data"
    }
   ],
   "source": [
    "plot(r * unit_length / 1e3 / PARSEC_TO_METER, Ω / unit_time,\n",
    "    xlabel=\"r [kpc]\", ylabel=\"Ω [kpc/s]\", label=\"Radial profile of Ω\", \n",
    "    lw=2, legend=:topright, size=(800, 600),\n",
    "    dpi=1200)\n",
    "\n",
    "plot!(margin = 5mm)\n",
    "\n",
    "savefig(\"plots/omega_profile.png\")"
   ]
  },
  {
   "cell_type": "code",
   "execution_count": 118,
   "metadata": {},
   "outputs": [
    {
     "name": "stdout",
     "output_type": "stream",
     "text": [
      "Dynamo number is -56.2409823915437\n"
     ]
    },
    {
     "data": {
      "text/plain": [
       "\"/home/kmaitreys/Documents/college/10-2024-spring/p464-magnetohydrodynamics/project/plots/dynamo_number_profile.png\""
      ]
     },
     "metadata": {},
     "output_type": "display_data"
    }
   ],
   "source": [
    "# Radial profiles of Dynamo number\n",
    "# println(\"alpha = $α\")\n",
    "# println(\"q = $q\")\n",
    "# println(\"Ω = $Ω\")\n",
    "# println(\"h = $h\")\n",
    "# println(\"η = $η\")\n",
    "\n",
    "\n",
    "D = -α .* q .* Ω .* h.^3 / η.^2\n",
    "\n",
    "println(\"Dynamo number is $(mean(D))\")\n",
    "\n",
    "\n",
    "plot(r * unit_length / 1e3 / PARSEC_TO_METER, D,\n",
    "    xlabel=\"r [kpc]\", ylabel=\"D\", label=\"Radial profile of \n",
    "Dynamo number\", \n",
    "    lw=2, legend=:topright, size=(800, 600),\n",
    "    dpi=1200)\n",
    "\n",
    "plot!(margin = 5mm)\n",
    "\n",
    "savefig(\"plots/dynamo_number_profile.png\")"
   ]
  },
  {
   "cell_type": "code",
   "execution_count": 111,
   "metadata": {},
   "outputs": [
    {
     "name": "stdout",
     "output_type": "stream",
     "text": [
      "[-0.1406068500747007, -0.14463821383388098, -0.15155723932187315, -0.15611708457980744, -0.15820597663333952, -0.15777710926167232, -0.15485023479465787, -0.14951080051716048, -0.14190667412039584, -0.13224261604320506, -0.12077276075454398, -0.10779145817065278, -0.0936228956232615, -0.07860996657437962, -0.06310287262179122, -0.04744793990083082, -0.03197710100922104, -0.016998441771710737, -0.002788142450547546, 0.010415939768563778, 0.022418890654275825, 0.03307149744542277, 0.04227117177364776, 0.04996114436307529, 0.0561281086590062, 0.06079854559320029, 0.06403400024376031, 0.06592560256115386, 0.06658812906148166, 0.06615389183952469, 0.06476671760039628, 0.06257624537023701, 0.05973273015691014, 0.05638249420782893, 0.05266412064476525, 0.04870543883449523, 0.04462130913520374, 0.04051217837758003, 0.036463347773433324, 0.03254487251586293, 0.02881199725278681, 0.025306023546090798, 0.022055503684092353, 0.019077658853029696, 0.01637992759722443, 0.013961561550573823, 0.011815198469335347, 0.00992835659149867, 0.008284808382382892, 0.006865805058394894, 0.005651135351932212, 0.0046200124120188354, 0.003751791317677299, 0.0030265263517853715, 0.002425382000506022, 0.0019309147574009468, 0.0015272444351478866, 0.0012001340708289881, 0.0009369969156552178, 0.0007268476836931162, 0.0005602134337949209, 0.0004290173822190281, 0.0003264467632526376, 0.0002468137076880831, 0.0001854160946683063, 0.00013840351884324435, 0.00010265194117319105, 7.564927388709879e-5, 5.539308568372926e-5, 4.030078669274548e-5, 2.913203973194113e-5, 2.0922715862006684e-5, 1.4929437194458701e-5, 1.0583597906202337e-5, 7.453697155171699e-6, 5.214829948290834e-6, 3.6242425616183485e-6, 2.5019502740720285e-6, 1.7155230765273644e-6, 1.168259159598573e-6, 7.900788071546083e-7, 5.305777246449365e-7, 3.537756788219424e-7, 2.3418200509811862e-7, 1.5387355656183883e-7, 1.0034331114324852e-7, 6.492991243327256e-8, 4.168097775871898e-8, 2.653727733394953e-8, 1.6752100475807138e-8, 1.0481449999988793e-8, 6.49721045500967e-9, 3.988058327291777e-9, 2.4224261015001424e-9, 1.4549687349188892e-9, 8.632608828252495e-10, 5.053186179026135e-10, 2.91340498820901e-10, 1.6507239895628674e-10, 9.162797355521594e-11, 4.960074224845983e-11, 2.6003226221071772e-11, 1.3051138539566977e-11, 6.140343733021488e-12, 2.5874196257416127e-12, 8.541749551613209e-13, 7.569899967591626e-14, -2.2328627699941241e-13, -2.965954442109685e-13, -2.9860615218202746e-13]\n"
     ]
    }
   ],
   "source": [
    "# print(collect(r))\n",
    "\n",
    "B_r = (\n",
    "    1 .* \n",
    "    sin.((π.*(r_min .- r)/(r_max-r_min))) .*\n",
    "    exp.(-r.^2/r_Ω^2)\n",
    ")\n",
    "B_ϕ = (\n",
    "    - 1 .*\n",
    "    sin.((π.*(r_min .- r)/(r_max-r_min))) .*\n",
    "    exp.(-r.^2/r_Ω^2)\n",
    ")\n",
    "\n",
    "println(GalacticDynamo.gradient(B_r, r)) \n"
   ]
  },
  {
   "cell_type": "code",
   "execution_count": 112,
   "metadata": {},
   "outputs": [
    {
     "name": "stdout",
     "output_type": "stream",
     "text": [
      "[0.20908256880733933, 0.40889908256880725, 0.608715596330275, 0.808532110091743, 1.008348623853211, 1.208165137614679, 1.4079816513761467, 1.6077981651376145, 1.8076146788990823, 2.00743119266055, 2.2072477064220184, 2.4070642201834858, 2.606880733944954, 2.806697247706422, 3.0065137614678896, 3.2063302752293574, 3.4061467889908257, 3.6059633027522935, 3.805779816513761, 4.005596330275229, 4.205412844036697, 4.405229357798166, 4.605045871559632, 4.8048623853211, 5.004678899082569, 5.204495412844036, 5.404311926605504, 5.604128440366972, 5.80394495412844, 6.003761467889908, 6.203577981651375, 6.403394495412843, 6.603211009174312, 6.803027522935778, 7.0028440366972475, 7.202660550458716, 7.402477064220183, 7.602293577981651, 7.802110091743118, 8.001926605504586, 8.201743119266055, 8.401559633027523, 8.601376146788992, 8.801192660550457, 9.001009174311925, 9.200825688073394, 9.400642201834861, 9.600458715596329, 9.800275229357798, 10.000091743119265, 10.199908256880732, 10.3997247706422, 10.599541284403669, 10.799357798165136, 10.999174311926605, 11.198990825688073, 11.39880733944954, 11.59862385321101, 11.798440366972477, 11.998256880733944, 12.198073394495411, 12.39788990825688, 12.597706422018346, 12.797522935779815, 12.997339449541284, 13.19715596330275, 13.396972477064217, 13.596788990825688, 13.796605504587156, 13.996422018348621, 14.196238532110092, 14.39605504587156, 14.595871559633027, 14.795688073394492, 14.995504587155963, 15.19532110091743, 15.395137614678898, 15.594954128440365, 15.794770642201835, 15.994587155963302, 16.19440366972477, 16.39422018348624, 16.594036697247706, 16.79385321100917, 16.993669724770644, 17.19348623853211, 17.393302752293575, 17.593119266055044, 17.79293577981651, 17.992752293577983, 18.19256880733945, 18.392385321100914, 18.592201834862383, 18.792018348623852, 18.991834862385318, 19.191651376146787, 19.391467889908256, 19.59128440366972, 19.79110091743119, 19.990917431192656, 20.19073394495413, 20.390550458715595, 20.59036697247706, 20.790183486238533, 20.99]\n"
     ]
    }
   ],
   "source": [
    "println(collect(r[n_ghost_zones+1:end]))"
   ]
  },
  {
   "cell_type": "code",
   "execution_count": 113,
   "metadata": {},
   "outputs": [
    {
     "data": {
      "text/plain": [
       "\"/home/kmaitreys/Documents/college/10-2024-spring/p464-magnetohydrodynamics/project/plots/dynamo.png\""
      ]
     },
     "metadata": {},
     "output_type": "display_data"
    }
   ],
   "source": [
    "# initialize figure size\n",
    "# plot(size=(8, 5))\n",
    "\n",
    "# X and Y labels\n",
    "# plot(\"R [kpc]\", \"B [microG]\", label=\"B_r\", legend=:topleft)\n",
    "# plot B_r\n",
    "plot(r[n_ghost_zones+1:end], B_r[n_ghost_zones+1:end], label=\"B_r (initial)\",\n",
    "xlabel = \"Radius [kpc]\", ylabel = \"B [microG]\", lw=2)\n",
    "# plot B_ϕ\n",
    "plot!(r[n_ghost_zones+1:end], B_ϕ[n_ghost_zones+1:end], label=\"B_ϕ (initial)\",\n",
    "xlabel = \"Radius [kpc]\", ylabel = \"B [microG]\",\n",
    "lw=2)\n",
    "plot!(legend=:bottomright, grid=true, size=(800, 500))\n",
    "plot!(margin = 5mm)\n",
    "plot!(dpi=1200)\n",
    "# Save figure\n",
    "savefig(\"plots/dynamo.png\")\n",
    "# show plot\n",
    "# display(plot!)"
   ]
  },
  {
   "cell_type": "code",
   "execution_count": 138,
   "metadata": {},
   "outputs": [
    {
     "ename": "ArgumentError",
     "evalue": "ArgumentError: Length of x & y does not match the size of z.\nMust be either `size(z) == (length(y), length(x))` (x & y define midpoints)\nor `size(z) == (length(y)+1, length(x)+1))` (x & y define edges).\n",
     "output_type": "error",
     "traceback": [
      "ArgumentError: Length of x & y does not match the size of z.\n",
      "Must be either `size(z) == (length(y), length(x))` (x & y define midpoints)\n",
      "or `size(z) == (length(y)+1, length(x)+1))` (x & y define edges).\n",
      "\n",
      "\n",
      "Stacktrace:\n",
      "  [1] |>(x::ArgumentError, f::typeof(throw))\n",
      "    @ Base ./operators.jl:917\n",
      "  [2] heatmap_edges(x::LinRange{Float64, Int64}, xscale::Symbol, y::LinRange{Float64, Int64}, yscale::Symbol, z_size::Tuple{Int64, Int64}, ispolar::Bool)\n",
      "    @ Plots ~/.julia/packages/Plots/ju9dp/src/utils.jl:278\n",
      "  [3] gr_add_series(sp::Plots.Subplot{Plots.GRBackend}, series::Plots.Series)\n",
      "    @ Plots ~/.julia/packages/Plots/ju9dp/src/backends/gr.jl:1763\n",
      "  [4] gr_display(sp::Plots.Subplot{Plots.GRBackend}, w::AbsoluteLength, h::AbsoluteLength, vp_canvas::Plots.GRViewport{Float64})\n",
      "    @ Plots ~/.julia/packages/Plots/ju9dp/src/backends/gr.jl:964\n",
      "  [5] (::Plots.var\"#509#510\"{Int64, Int64, Plots.GRViewport{Float64}})(sp::Plots.Subplot{Plots.GRBackend})\n",
      "    @ Plots ~/.julia/packages/Plots/ju9dp/src/backends/gr.jl:688\n",
      "  [6] foreach(f::Plots.var\"#509#510\"{Int64, Int64, Plots.GRViewport{Float64}}, itr::Vector{Plots.Subplot})\n",
      "    @ Base ./abstractarray.jl:3097\n",
      "  [7] gr_display(plt::Plots.Plot{Plots.GRBackend}, dpi_factor::Float64)\n",
      "    @ Plots ~/.julia/packages/Plots/ju9dp/src/backends/gr.jl:688\n",
      "  [8] #550\n",
      "    @ ~/.julia/packages/Plots/ju9dp/src/backends/gr.jl:2062 [inlined]\n",
      "  [9] withenv(::Plots.var\"#550#551\"{Plots.Plot{Plots.GRBackend}, Float64}, ::Pair{String, String}, ::Vararg{Pair{String, String}})\n",
      "    @ Base ./env.jl:257\n",
      " [10] _show(io::IOStream, ::MIME{Symbol(\"image/png\")}, plt::Plots.Plot{Plots.GRBackend})\n",
      "    @ Plots ~/.julia/packages/Plots/ju9dp/src/backends/gr.jl:2057\n",
      " [11] #invokelatest#2\n",
      "    @ ./essentials.jl:892 [inlined]\n",
      " [12] invokelatest\n",
      "    @ ./essentials.jl:889 [inlined]\n",
      " [13] show\n",
      "    @ ~/.julia/packages/Plots/ju9dp/src/output.jl:232 [inlined]\n",
      " [14] #347\n",
      "    @ ~/.julia/packages/Plots/ju9dp/src/output.jl:6 [inlined]\n",
      " [15] open(::Plots.var\"#347#348\"{Plots.Plot{Plots.GRBackend}}, ::String, ::Vararg{String}; kwargs::@Kwargs{})\n",
      "    @ Base ./io.jl:396\n",
      " [16] open\n",
      "    @ ./io.jl:393 [inlined]\n",
      " [17] png(plt::Plots.Plot{Plots.GRBackend}, fn::String)\n",
      "    @ Plots ~/.julia/packages/Plots/ju9dp/src/output.jl:6\n",
      " [18] savefig(plt::Plots.Plot{Plots.GRBackend}, fn::String)\n",
      "    @ Plots ~/.julia/packages/Plots/ju9dp/src/output.jl:149\n",
      " [19] savefig(fn::String)\n",
      "    @ Plots ~/.julia/packages/Plots/ju9dp/src/output.jl:154\n",
      " [20] top-level scope\n",
      "    @ ~/Documents/college/10-2024-spring/p464-magnetohydrodynamics/project/test.ipynb:21"
     ]
    }
   ],
   "source": [
    "# Integration\n",
    "# print(dt)\n",
    "evolution_B_r = zeros(length(r), n_t)\n",
    "evolution_B_ϕ = zeros(length(r), n_t)\n",
    "\n",
    "# size(evolution_B_r[1, :])\n",
    "for i in 1:n_t\n",
    "    time_step = dt\n",
    "    B_r, B_ϕ = GalacticDynamo.runge_kutta_with_ghost_zones(\n",
    "        B_r, B_ϕ, dt, r, η,V_z, h, α, Ω, q,n_proper_zones, n_ghost_zones\n",
    "    )\n",
    "    evolution_B_r[:, i] .= B_r\n",
    "    evolution_B_ϕ[:, i] .= B_ϕ\n",
    "end\n",
    "\n",
    "\n",
    "\n",
    "\n",
    "# Create heatmap for Br\n",
    "heatmap(t, r[1:end], evolution_B_r', aspect_ratio=:equal, xlabel=\"r\", ylabel=\"Time Step\", title=\"Evolution of Br\")\n",
    "savefig(\"plots/evolution_B_r.png\")\n",
    "# Create heatmap for Bϕ\n",
    "heatmap(t, r[1:end], evolution_B_ϕ', aspect_ratio=:equal, xlabel=\"r\", ylabel=\"Time Step\", title=\"Evolution of Bϕ\")\n",
    "\n",
    "savefig(\"plots/evolution_B_ϕ.png\")"
   ]
  }
 ],
 "metadata": {
  "kernelspec": {
   "display_name": "Julia 1.10.2",
   "language": "julia",
   "name": "julia-1.10"
  },
  "language_info": {
   "file_extension": ".jl",
   "mimetype": "application/julia",
   "name": "julia",
   "version": "1.10.2"
  }
 },
 "nbformat": 4,
 "nbformat_minor": 2
}
